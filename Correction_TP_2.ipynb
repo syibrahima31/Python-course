{
  "nbformat": 4,
  "nbformat_minor": 0,
  "metadata": {
    "colab": {
      "name": "Correction_TP_2.ipynb",
      "provenance": [],
      "authorship_tag": "ABX9TyMNbIDJJ14iTEqj+DdKm1w/",
      "include_colab_link": true
    },
    "kernelspec": {
      "name": "python3",
      "display_name": "Python 3"
    },
    "language_info": {
      "name": "python"
    }
  },
  "cells": [
    {
      "cell_type": "markdown",
      "metadata": {
        "id": "view-in-github",
        "colab_type": "text"
      },
      "source": [
        "<a href=\"https://colab.research.google.com/github/syibrahima31/Python-course/blob/main/Correction_TP_2.ipynb\" target=\"_parent\"><img src=\"https://colab.research.google.com/assets/colab-badge.svg\" alt=\"Open In Colab\"/></a>"
      ]
    },
    {
      "cell_type": "code",
      "execution_count": 10,
      "metadata": {
        "id": "jH031obTRsve"
      },
      "outputs": [],
      "source": [
        "import math \n",
        "# Recupeartion des coefficeints \n",
        "\n",
        "def recuperer():\n",
        "  L_coef = []\n",
        "  for i in  \"abc\": \n",
        "    val = float(input(f\"Donner le coeficient {i} :\"))\n",
        "    L_coef.append(val)\n",
        "  return L_coef \n",
        "\n",
        "\n",
        "# Resolution de equqtion du second degree \n",
        "def resolution(): \n",
        "  a, b, c = recuperer()\n",
        "  if a == 0 : \n",
        "    return \"Le coefficeint ne doit pas etre nul\"\n",
        "  \n",
        "  else : \n",
        "    delta = (b**2) - (4*a*c)\n",
        "\n",
        "    if delta > 0 : \n",
        "      x_1 = (-b  - math.sqrt(delta))/ 2 *a \n",
        "      x_2 = (-b  +  math.sqrt(delta))/ 2 *a \n",
        "      print(f\"On a deux solutions distincts x_1={x_1}  et x_2 = {x_2}\")\n",
        "\n",
        "    elif delta == 0 : \n",
        "      x_0 = (-b) / (2 *a)\n",
        "      print(\"On a une solution double x_0n = {x_0}\")\n",
        "\n",
        "    else: \n",
        "      print(\"pas de solution\")  \n"
      ]
    },
    {
      "cell_type": "code",
      "source": [
        "resolution()"
      ],
      "metadata": {
        "colab": {
          "base_uri": "https://localhost:8080/"
        },
        "id": "_JGalgzqSlG1",
        "outputId": "c202bdbf-5d42-4bff-8076-b4228d003002"
      },
      "execution_count": 13,
      "outputs": [
        {
          "output_type": "stream",
          "name": "stdout",
          "text": [
            "Donner le coeficient a :1\n",
            "Donner le coeficient b :0\n",
            "Donner le coeficient c :-1\n",
            "On a deux solutions distincts x_1=-1.0  et x_2 = 1.0\n"
          ]
        }
      ]
    },
    {
      "cell_type": "markdown",
      "source": [
        "## Exercice 2 "
      ],
      "metadata": {
        "id": "w0gC-BKYWfMD"
      }
    },
    {
      "cell_type": "code",
      "source": [
        "vec = [[1, 2, 3], [4, 5, 6], [7, 8, 9]]"
      ],
      "metadata": {
        "id": "eb4fEfGLSo7f"
      },
      "execution_count": 14,
      "outputs": []
    },
    {
      "cell_type": "markdown",
      "source": [
        ""
      ],
      "metadata": {
        "id": "a7TYcmFCWI3O"
      }
    },
    {
      "cell_type": "code",
      "source": [
        "flatten = []\n",
        "\n",
        "for liste in vec : \n",
        "  for i in liste : \n",
        "    flatten.append(i)"
      ],
      "metadata": {
        "id": "HLRb8JO2S8x-"
      },
      "execution_count": 18,
      "outputs": []
    },
    {
      "cell_type": "code",
      "source": [
        "flatten "
      ],
      "metadata": {
        "colab": {
          "base_uri": "https://localhost:8080/"
        },
        "id": "ijX6Lu4mWlld",
        "outputId": "3cd6eec2-4aca-458a-ca1a-d6d963377739"
      },
      "execution_count": 19,
      "outputs": [
        {
          "output_type": "execute_result",
          "data": {
            "text/plain": [
              "[1, 2, 3, 4, 5, 6, 7, 8, 9]"
            ]
          },
          "metadata": {},
          "execution_count": 19
        }
      ]
    },
    {
      "cell_type": "markdown",
      "source": [
        "## Exercice 4 \n",
        "<br/>\n",
        "\n",
        "### Question 1 "
      ],
      "metadata": {
        "id": "t_1AlYeoXiaL"
      }
    },
    {
      "cell_type": "code",
      "source": [
        "def somme(L): \n",
        "\n",
        "  if len(L)==0: \n",
        "    return 0 \n",
        "  else: \n",
        "    s = 0 \n",
        "    for i in L : \n",
        "      s += i \n",
        "  return s \n",
        "  "
      ],
      "metadata": {
        "id": "Zv56j8pqXFod"
      },
      "execution_count": 23,
      "outputs": []
    },
    {
      "cell_type": "code",
      "source": [
        "assert somme([1,3,4]) == 8\n",
        "assert somme([]) == 0"
      ],
      "metadata": {
        "colab": {
          "base_uri": "https://localhost:8080/"
        },
        "id": "ITumyKkzX_1f",
        "outputId": "929e948a-2e5f-4bcb-de4f-817a03486bf9"
      },
      "execution_count": 26,
      "outputs": [
        {
          "output_type": "execute_result",
          "data": {
            "text/plain": [
              "8"
            ]
          },
          "metadata": {},
          "execution_count": 26
        }
      ]
    },
    {
      "cell_type": "markdown",
      "source": [
        "### Question 2 "
      ],
      "metadata": {
        "id": "hdjsWf-pYlbE"
      }
    },
    {
      "cell_type": "code",
      "source": [
        "def moyenne(L): \n",
        "  if len(L)==0 : \n",
        "    return 0 \n",
        "  else: \n",
        "    return somme(L)/ len(L)"
      ],
      "metadata": {
        "id": "gSFK2NdFYGS2"
      },
      "execution_count": 29,
      "outputs": []
    },
    {
      "cell_type": "markdown",
      "source": [
        "### Question 3 "
      ],
      "metadata": {
        "id": "wOVdEBjOZoPQ"
      }
    },
    {
      "cell_type": "code",
      "source": [
        "def carres(L): \n",
        "  return [i**2 for i in L ]"
      ],
      "metadata": {
        "id": "Z2-lfyu6ZcHO"
      },
      "execution_count": 31,
      "outputs": []
    },
    {
      "cell_type": "code",
      "source": [
        "carres([2,3,4])"
      ],
      "metadata": {
        "colab": {
          "base_uri": "https://localhost:8080/"
        },
        "id": "XDjQ15wsZdym",
        "outputId": "20799de6-08f5-4121-eb49-7f937bdc612c"
      },
      "execution_count": 32,
      "outputs": [
        {
          "output_type": "execute_result",
          "data": {
            "text/plain": [
              "[4, 9, 16]"
            ]
          },
          "metadata": {},
          "execution_count": 32
        }
      ]
    },
    {
      "cell_type": "code",
      "source": [
        "def variance(L): \n",
        "  var = moyenne(carres(L)) - (moyenne(L))**2 \n",
        "  return var "
      ],
      "metadata": {
        "id": "RiEZNftGaAwR"
      },
      "execution_count": 33,
      "outputs": []
    },
    {
      "cell_type": "markdown",
      "source": [
        "$\\frac{1}{n} \\sum_{1}^{n} x_{i}^{2} - \\bar{x}^{2}$\n"
      ],
      "metadata": {
        "id": "UIUvEc5-bo9s"
      }
    },
    {
      "cell_type": "code",
      "source": [
        "variance([4, 9, 16])"
      ],
      "metadata": {
        "colab": {
          "base_uri": "https://localhost:8080/"
        },
        "id": "zkprKoCIax5L",
        "outputId": "ff1ab266-35d2-4e62-d900-591a1886884b"
      },
      "execution_count": 34,
      "outputs": [
        {
          "output_type": "execute_result",
          "data": {
            "text/plain": [
              "24.222222222222243"
            ]
          },
          "metadata": {},
          "execution_count": 34
        }
      ]
    },
    {
      "cell_type": "markdown",
      "source": [
        "### Question  4 "
      ],
      "metadata": {
        "id": "Wr2IhYUab12-"
      }
    },
    {
      "cell_type": "code",
      "source": [
        "def ecart_type(L):\n",
        "  if len(L) ==0 : \n",
        "    return 0 \n",
        "  else: \n",
        "    return math.sqrt(variance(L))"
      ],
      "metadata": {
        "id": "g87tX9u2a2jz"
      },
      "execution_count": 35,
      "outputs": []
    },
    {
      "cell_type": "markdown",
      "source": [
        ""
      ],
      "metadata": {
        "id": "r6pb4kgra6mU"
      }
    },
    {
      "cell_type": "code",
      "source": [
        "ecart_type([2,4,3])"
      ],
      "metadata": {
        "colab": {
          "base_uri": "https://localhost:8080/"
        },
        "id": "PLDxCkIGbU8P",
        "outputId": "8eff7ef5-39ee-4e09-8f92-5e86cf3fb042"
      },
      "execution_count": 36,
      "outputs": [
        {
          "output_type": "execute_result",
          "data": {
            "text/plain": [
              "0.8164965809277257"
            ]
          },
          "metadata": {},
          "execution_count": 36
        }
      ]
    },
    {
      "cell_type": "markdown",
      "source": [
        "## Exrecice 5 \n",
        "<br/>\n",
        "\n",
        "### Question 1 "
      ],
      "metadata": {
        "id": "8OnVPzdlcXMD"
      }
    },
    {
      "cell_type": "code",
      "source": [
        "def list_mult(L, k): \n",
        "  return [k*i for i in L]"
      ],
      "metadata": {
        "id": "AdroLROWcK3x"
      },
      "execution_count": 37,
      "outputs": []
    },
    {
      "cell_type": "code",
      "source": [
        "list_mult([2,3,4], 2)"
      ],
      "metadata": {
        "colab": {
          "base_uri": "https://localhost:8080/"
        },
        "id": "xnAmQSa-ct9F",
        "outputId": "fde1718d-b173-4328-a890-4e66c3c0ce67"
      },
      "execution_count": 38,
      "outputs": [
        {
          "output_type": "execute_result",
          "data": {
            "text/plain": [
              "[4, 6, 8]"
            ]
          },
          "metadata": {},
          "execution_count": 38
        }
      ]
    },
    {
      "cell_type": "markdown",
      "source": [
        "### Question 2 "
      ],
      "metadata": {
        "id": "31r_Ar-lc-6v"
      }
    },
    {
      "cell_type": "code",
      "source": [
        "def list_div(L, k): \n",
        "\n",
        "  if k == 0 : \n",
        "    return \"l'entier ne doit pas etre nul\"\n",
        "  else: \n",
        "    liste =[]\n",
        "    for i in L : \n",
        "      if i % k == 0 : \n",
        "        liste.append(i/k)\n",
        "    return liste \n",
        "\n",
        "    "
      ],
      "metadata": {
        "id": "zwm3-qdNcyfo"
      },
      "execution_count": 39,
      "outputs": []
    },
    {
      "cell_type": "code",
      "source": [
        "list_div ([2,5, 8, 10], 2)"
      ],
      "metadata": {
        "colab": {
          "base_uri": "https://localhost:8080/"
        },
        "id": "vOVHjySceVrf",
        "outputId": "779f3861-5a35-4667-8b7d-5808ad18d4ea"
      },
      "execution_count": 40,
      "outputs": [
        {
          "output_type": "execute_result",
          "data": {
            "text/plain": [
              "[1.0, 4.0, 5.0]"
            ]
          },
          "metadata": {},
          "execution_count": 40
        }
      ]
    },
    {
      "cell_type": "code",
      "source": [
        "def entiers(i, j): \n",
        "  if i>j: \n",
        "    return \"l'entier i doit etre inférieur a j\"\n",
        "  else: \n",
        "    for val  in range(i , j):\n",
        "      print(val, end =\"-\")\n",
        "    print(j)"
      ],
      "metadata": {
        "id": "M2ZIPiELedgx"
      },
      "execution_count": 52,
      "outputs": []
    },
    {
      "cell_type": "code",
      "source": [
        "entiers(7,21)"
      ],
      "metadata": {
        "colab": {
          "base_uri": "https://localhost:8080/"
        },
        "id": "yzBIlm7Uh_6b",
        "outputId": "98b9bfef-6f81-4cb6-ad90-694afdd146e1"
      },
      "execution_count": 53,
      "outputs": [
        {
          "output_type": "stream",
          "name": "stdout",
          "text": [
            "7-8-9-10-11-12-13-14-15-16-17-18-19-20-21\n"
          ]
        }
      ]
    },
    {
      "cell_type": "code",
      "source": [
        "def entiers_bis(i, j): \n",
        "  if i>j: \n",
        "    return \"l'entier i doit etre inférieur a j\"\n",
        "  else: \n",
        "    if j % 7 == 0 : \n",
        "      j = j-1\n",
        "      \n",
        "    for val  in range(i , j):\n",
        "      if val % 7 != 0: \n",
        "        print(val, end =\"-\")\n",
        "    print(j)"
      ],
      "metadata": {
        "id": "8x3cIA6_i8UD"
      },
      "execution_count": 64,
      "outputs": []
    },
    {
      "cell_type": "code",
      "source": [
        "entiers_bis(7, 21)"
      ],
      "metadata": {
        "colab": {
          "base_uri": "https://localhost:8080/"
        },
        "id": "M6jkaB1fkCxE",
        "outputId": "03117de6-2e70-490c-aae4-0552db6ba865"
      },
      "execution_count": 65,
      "outputs": [
        {
          "output_type": "stream",
          "name": "stdout",
          "text": [
            "8-9-10-11-12-13-15-16-17-18-19-20\n"
          ]
        }
      ]
    },
    {
      "cell_type": "code",
      "source": [
        ""
      ],
      "metadata": {
        "id": "EgOR7BDFkEx_"
      },
      "execution_count": null,
      "outputs": []
    }
  ]
}